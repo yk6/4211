{
 "cells": [
  {
   "cell_type": "code",
   "execution_count": 12,
   "metadata": {},
   "outputs": [
    {
     "name": "stdout",
     "output_type": "stream",
     "text": [
      "C:\\Users\\Administrator\\ee4211\\4211\\clean_df.csv\n"
     ]
    }
   ],
   "source": [
    "import pandas as pd\n",
    "from pathlib import Path\n",
    "currentPath = str(Path().resolve())\n",
    "path = currentPath +'\\clean_df.csv'\n",
    "print (path)"
   ]
  },
  {
   "cell_type": "code",
   "execution_count": 18,
   "metadata": {},
   "outputs": [
    {
     "data": {
      "text/html": [
       "<div>\n",
       "<style scoped>\n",
       "    .dataframe tbody tr th:only-of-type {\n",
       "        vertical-align: middle;\n",
       "    }\n",
       "\n",
       "    .dataframe tbody tr th {\n",
       "        vertical-align: top;\n",
       "    }\n",
       "\n",
       "    .dataframe thead th {\n",
       "        text-align: right;\n",
       "    }\n",
       "</style>\n",
       "<table border=\"1\" class=\"dataframe\">\n",
       "  <thead>\n",
       "    <tr style=\"text-align: right;\">\n",
       "      <th></th>\n",
       "      <th>localminute</th>\n",
       "      <th>dataid</th>\n",
       "      <th>meter_value</th>\n",
       "    </tr>\n",
       "  </thead>\n",
       "  <tbody>\n",
       "    <tr>\n",
       "      <th>0</th>\n",
       "      <td>2015-10-01 00:14:44</td>\n",
       "      <td>35</td>\n",
       "      <td>93470</td>\n",
       "    </tr>\n",
       "    <tr>\n",
       "      <th>1</th>\n",
       "      <td>2015-10-01 06:23:36</td>\n",
       "      <td>35</td>\n",
       "      <td>93472</td>\n",
       "    </tr>\n",
       "    <tr>\n",
       "      <th>2</th>\n",
       "      <td>2015-10-01 11:24:52</td>\n",
       "      <td>35</td>\n",
       "      <td>93474</td>\n",
       "    </tr>\n",
       "    <tr>\n",
       "      <th>3</th>\n",
       "      <td>2015-10-01 17:03:44</td>\n",
       "      <td>35</td>\n",
       "      <td>93476</td>\n",
       "    </tr>\n",
       "    <tr>\n",
       "      <th>4</th>\n",
       "      <td>2015-10-01 19:44:49</td>\n",
       "      <td>35</td>\n",
       "      <td>93482</td>\n",
       "    </tr>\n",
       "  </tbody>\n",
       "</table>\n",
       "</div>"
      ],
      "text/plain": [
       "           localminute  dataid  meter_value\n",
       "0  2015-10-01 00:14:44      35        93470\n",
       "1  2015-10-01 06:23:36      35        93472\n",
       "2  2015-10-01 11:24:52      35        93474\n",
       "3  2015-10-01 17:03:44      35        93476\n",
       "4  2015-10-01 19:44:49      35        93482"
      ]
     },
     "execution_count": 18,
     "metadata": {},
     "output_type": "execute_result"
    }
   ],
   "source": [
    "df = pd.read_csv(path)\n",
    "df.head()\n",
    "\n"
   ]
  },
  {
   "cell_type": "code",
   "execution_count": 14,
   "metadata": {},
   "outputs": [
    {
     "name": "stdout",
     "output_type": "stream",
     "text": [
      "        localminute  dataid  meter_value\n",
      "dataid                                  \n",
      "35             2204       1         2203\n",
      "44              440       1          440\n",
      "77             1448       1         1431\n",
      "94             5111       1         5106\n",
      "114            1328       1         1328\n",
      "187             704       1          704\n",
      "222             942       1          942\n",
      "252            3085       1         3085\n",
      "370            1914       1         1891\n",
      "483            4051       1         3938\n",
      "484            4958       1         4949\n",
      "661            1789       1         1789\n",
      "739            3541       1         3541\n",
      "744            2604       1         2585\n",
      "871            3479       1         3341\n",
      "1042           1472       1         1472\n",
      "1086           4454       1         4453\n",
      "1103            380       1          380\n",
      "1185           2870       1         2767\n",
      "1283           4400       1         4396\n",
      "1403             63       1           62\n",
      "1415            551       1          551\n",
      "1507           5622       1         5620\n",
      "1556           1633       1         1630\n",
      "1589           4099       1         4099\n",
      "1619           1152       1         1152\n",
      "1697           1874       1         1874\n",
      "1714           4008       1         4008\n",
      "1718           3475       1         3472\n",
      "1790           4693       1         4676\n",
      "...             ...     ...          ...\n",
      "7965            335       1          335\n",
      "7989           3828       1         3826\n",
      "8059            307       1          307\n",
      "8084           1123       1         1066\n",
      "8086           1524       1         1524\n",
      "8155           1370       1         1370\n",
      "8156           3564       1         3457\n",
      "8244            504       1          504\n",
      "8386            413       1          413\n",
      "8467           1463       1         1451\n",
      "8703            186       1          186\n",
      "8829           3468       1         3468\n",
      "8890           5146       1         5108\n",
      "8967            713       1          614\n",
      "9052           2306       1         2306\n",
      "9121           2704       1         2704\n",
      "9134           4627       1         4536\n",
      "9160             65       1           65\n",
      "9278           2232       1         2222\n",
      "9295           5651       1         5651\n",
      "9474           1409       1         1409\n",
      "9600            263       1          263\n",
      "9620             21       1           21\n",
      "9631           1474       1         1456\n",
      "9639           5517       1         5516\n",
      "9729           2778       1         2778\n",
      "9766            697       1          697\n",
      "9849            704       1          691\n",
      "9956            460       1          460\n",
      "9982            880       1          880\n",
      "\n",
      "[157 rows x 3 columns]\n"
     ]
    }
   ],
   "source": [
    "print (df)"
   ]
  },
  {
   "cell_type": "code",
   "execution_count": 15,
   "metadata": {},
   "outputs": [],
   "source": [
    "test = [[0,1,2],[3,4,5],[6,7,8]]"
   ]
  },
  {
   "cell_type": "code",
   "execution_count": 16,
   "metadata": {},
   "outputs": [
    {
     "data": {
      "text/plain": [
       "7"
      ]
     },
     "execution_count": 16,
     "metadata": {},
     "output_type": "execute_result"
    }
   ],
   "source": [
    "test[-1][1]"
   ]
  },
  {
   "cell_type": "code",
   "execution_count": null,
   "metadata": {},
   "outputs": [],
   "source": []
  }
 ],
 "metadata": {
  "kernelspec": {
   "display_name": "Python 3",
   "language": "python",
   "name": "python3"
  },
  "language_info": {
   "codemirror_mode": {
    "name": "ipython",
    "version": 3
   },
   "file_extension": ".py",
   "mimetype": "text/x-python",
   "name": "python",
   "nbconvert_exporter": "python",
   "pygments_lexer": "ipython3",
   "version": "3.6.5"
  }
 },
 "nbformat": 4,
 "nbformat_minor": 2
}
