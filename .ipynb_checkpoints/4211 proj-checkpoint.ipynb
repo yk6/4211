{
 "cells": [
  {
   "cell_type": "code",
   "execution_count": 35,
   "metadata": {},
   "outputs": [],
   "source": [
    "import numpy as np\n",
    "import pandas as pd\n",
    "\n",
    "#1.1\n",
    "# df = pd.read_csv(\"./dataport-export_gas_oct2015-mar2016.csv\")\n",
    "# data_id = df['dataid'].nunique()\n",
    "# print(\"number of house =\", data_id)\n",
    "\n",
    "test_df = pd.read_csv(\"./short100data.csv\")\n",
    "malfunction = []\n",
    "temp = test_df['meter_value'].duplicated(keep = 'first')\n",
    "\n",
    "#1.2"
   ]
  },
  {
   "cell_type": "code",
   "execution_count": null,
   "metadata": {},
   "outputs": [],
   "source": []
  }
 ],
 "metadata": {
  "kernelspec": {
   "display_name": "Python 3",
   "language": "python",
   "name": "python3"
  },
  "language_info": {
   "codemirror_mode": {
    "name": "ipython",
    "version": 3
   },
   "file_extension": ".py",
   "mimetype": "text/x-python",
   "name": "python",
   "nbconvert_exporter": "python",
   "pygments_lexer": "ipython3",
   "version": "3.6.5"
  }
 },
 "nbformat": 4,
 "nbformat_minor": 2
}
