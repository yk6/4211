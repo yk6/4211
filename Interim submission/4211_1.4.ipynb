{
 "cells": [
  {
   "cell_type": "markdown",
   "metadata": {},
   "source": [
    "<h3>The user behavior can be analyzed through the similarities in the cluster to improve and efficient planning and development of this existing gas supply system. Further, the consumption variance was used as an indicator of behavior variability or customers’ behavior changes.</h3>"
   ]
  },
  {
   "cell_type": "code",
   "execution_count": 13,
   "metadata": {},
   "outputs": [],
   "source": [
    "import numpy as np\n",
    "import pandas as pd\n",
    "from ipywidgets import FloatProgress\n",
    "from IPython.display import display\n",
    "from pathlib import Path\n",
    "import timeit\n",
    "import datetime\n",
    "from sklearn.cluster import KMeans\n",
    "import matplotlib.pyplot as plt\n",
    "import pylab as pl\n",
    "from sklearn.decomposition import PCA\n",
    "from IPython.display import HTML"
   ]
  },
  {
   "cell_type": "markdown",
   "metadata": {},
   "source": [
    "<h3>Clustering is a collection of same group similar or data objects or in other groups.Its also finding the dissimilar to the data objects in other groups.In cluster analysis, the main objective is to find similarities between data objects with the help of specific characteristics found in the data and grouping these similar data objects into clusters. In our project, the following features and their respective standard deviation will be examined in the folloing clustering discussion.</h3>"
   ]
  },
  {
   "cell_type": "code",
   "execution_count": 14,
   "metadata": {},
   "outputs": [
    {
     "data": {
      "text/html": [
       "<table>\n",
       "<tr>\n",
       "<th>Features</th>\n",
       "<th>Discription</th>\n",
       "</tr>\n",
       "<tr>\n",
       "<td>Total consumption</td>\n",
       "<td>Total consumed power during period of the study</td>\n",
       "</tr>\n",
       "<tr>\n",
       "<td>Morning consumtption</td>\n",
       "<td>The consumption observed from 06:00 - 09:00</td>\n",
       "</tr>\n",
       "<tr>\n",
       "<td>Noon consumtption</td>\n",
       "<td>The consumption observed from 11:00 - 14:00</td>\n",
       "</tr>\n",
       "<tr>\n",
       "<td>Night consumtption</td>\n",
       "<td>The consumption observed from 17:00 - 20:00</td>\n",
       "</tr>\n",
       "</table>"
      ],
      "text/plain": [
       "<IPython.core.display.HTML object>"
      ]
     },
     "metadata": {},
     "output_type": "display_data"
    }
   ],
   "source": [
    "s = \"\"\"<table>\n",
    "<tr>\n",
    "<th>Features</th>\n",
    "<th>Discription</th>\n",
    "</tr>\n",
    "<tr>\n",
    "<td>Total consumption</td>\n",
    "<td>Total consumed power during period of the study</td>\n",
    "</tr>\n",
    "<tr>\n",
    "<td>Morning consumtption</td>\n",
    "<td>The consumption observed from 06:00 - 09:00</td>\n",
    "</tr>\n",
    "<tr>\n",
    "<td>Noon consumtption</td>\n",
    "<td>The consumption observed from 11:00 - 14:00</td>\n",
    "</tr>\n",
    "<tr>\n",
    "<td>Night consumtption</td>\n",
    "<td>The consumption observed from 17:00 - 20:00</td>\n",
    "</tr>\n",
    "</table>\"\"\"\n",
    "h = HTML(s)\n",
    "display(h)"
   ]
  },
  {
   "cell_type": "code",
   "execution_count": 15,
   "metadata": {},
   "outputs": [],
   "source": [
    "path = str(Path().resolve().parent)+'\\csv'\n",
    "df = pd.read_csv(path+\"/hourly_consumption.csv\")\n",
    "\n",
    "df.localminute = df.localminute.str.slice(0,19)\n",
    "df.localminute = pd.to_datetime(df.localminute, infer_datetime_format = True, \n",
    "                                      format = \"%Y/%m/%d %I:%M:%S %p\");\n",
    "headers = [\"dataid\", \"totoalConsumption\", \"morningMean\", \"morningSTD\", \"noonMean\",\n",
    "          \"noonSTD\", \"nightMean\", \"nightSTD\"]\n",
    "df.localminute = df.localminute.map(lambda x:x.replace(minute=0, second=0));\n",
    "currentID = df.iloc[0]['dataid']\n",
    "baseTime = df.iloc[0]['localminute'] \n",
    "featuresList = []\n",
    "morningConsumption = []\n",
    "noonConsumption = []\n",
    "nightConsumption = []\n",
    "totoalConsumption = 0\n",
    "currentMorning = 0\n",
    "currentNoon = 0\n",
    "currentNight = 0\n",
    "prevDay = 0"
   ]
  },
  {
   "cell_type": "code",
   "execution_count": 16,
   "metadata": {
    "scrolled": false
   },
   "outputs": [],
   "source": [
    "# Feature Extraction \n",
    "for row in df.itertuples():\n",
    "    time_diff = str(row.localminute - baseTime)\n",
    "    hrs_diff = int(time_diff.split(\" \")[2][:2])\n",
    "    day_diff = int((time_diff.split(\" \")[0]))\n",
    "    if (day_diff != prevDay):\n",
    "        morningConsumption.append(currentMorning)\n",
    "        noonConsumption.append(currentNoon)\n",
    "        nightConsumption.append(currentNight)\n",
    "        prevDay = day_diff\n",
    "        currentMorning = 0\n",
    "        currentNoon = 0\n",
    "        currentNight = 0\n",
    "        \n",
    "    if (currentID != row.dataid):\n",
    "        features = []\n",
    "        morningMean = np.mean(morningConsumption)\n",
    "        morningSTD = np.std(morningConsumption)\n",
    "        noonMean = np.mean(noonConsumption)\n",
    "        noonSTD = np.std(noonConsumption)\n",
    "        nightMean = np.mean(nightConsumption)\n",
    "        nightSTD = np.std(nightConsumption)\n",
    "        features.append(currentID)\n",
    "        features.append(totoalConsumption)\n",
    "        features.append(morningMean)\n",
    "        features.append(morningSTD)\n",
    "        features.append(noonMean)\n",
    "        features.append(noonSTD)\n",
    "        features.append(nightMean)\n",
    "        features.append(nightSTD)\n",
    "        featuresList.append(features)\n",
    "        \n",
    "        morningConsumption = []\n",
    "        noonConsumption = []\n",
    "        nightConsumption = []\n",
    "        totoalConsumption = 0\n",
    "        currentID = row.dataid\n",
    "    \n",
    "    totoalConsumption = totoalConsumption + int(row.meter_value)\n",
    "    if (hrs_diff >= 6 and hrs_diff < 9):\n",
    "        currentMorning = currentMorning + int(row.meter_value)\n",
    "    elif (hrs_diff >= 11 and hrs_diff < 14):\n",
    "        currentNoon = currentNoon + int(row.meter_value)\n",
    "    elif (hrs_diff >= 17 and hrs_diff < 20):\n",
    "        currentNight = currentNight + int(row.meter_value)\n",
    "\n",
    "morningConsumption.append(currentMorning)\n",
    "noonConsumption.append(currentNoon)\n",
    "nightConsumption.append(currentNight)\n",
    "morningMean = np.mean(morningConsumption)\n",
    "morningSTD = np.std(morningConsumption)\n",
    "noonMean = np.mean(noonConsumption)\n",
    "noonSTD = np.std(noonConsumption)\n",
    "nightMean = np.mean(nightConsumption)\n",
    "nightSTD = np.std(nightConsumption)\n",
    "features = []\n",
    "\n",
    "features.append(currentID)\n",
    "features.append(totoalConsumption)\n",
    "features.append(morningMean)\n",
    "features.append(morningSTD)\n",
    "features.append(noonMean)\n",
    "features.append(noonSTD)\n",
    "features.append(nightMean)\n",
    "features.append(nightSTD)\n",
    "featuresList.append(features)\n",
    "\n",
    "featureFrame = pd.DataFrame(featuresList)\n",
    "featureFrame.to_csv(path + '/reading_features.csv', header=headers, index=None)"
   ]
  },
  {
   "cell_type": "markdown",
   "metadata": {},
   "source": [
    "<h3>K-medoids clustering selects the most centrally located data points within clusters as cluster centers called medoids and returns the number of clustering as required.</h3>"
   ]
  },
  {
   "cell_type": "code",
   "execution_count": 17,
   "metadata": {},
   "outputs": [],
   "source": [
    "df = pd.read_csv(path+\"/reading_features.csv\")\n",
    "featureNames = [\"totoalConsumption\", \"morningMean\", \"noonMean\", \"nightMean\"]\n",
    "kmeans = KMeans(n_clusters=3).fit(df[featureNames])\n",
    "df.insert(loc=0, column=\"classification\", value=kmeans.labels_)\n",
    "df.to_csv(path + '/reading_features_classification.csv', index=None)"
   ]
  },
  {
   "cell_type": "code",
   "execution_count": 18,
   "metadata": {},
   "outputs": [
    {
     "data": {
      "text/plain": [
       "Text(0,0.5,'Morning Average Consumption')"
      ]
     },
     "execution_count": 18,
     "metadata": {},
     "output_type": "execute_result"
    },
    {
     "data": {
      "image/png": "[encoded data removed]",
      "text/plain": [
       "<Figure size 432x288 with 1 Axes>"
      ]
     },
     "metadata": {},
     "output_type": "display_data"
    }
   ],
   "source": [
    "df_array = df.values\n",
    "plt.scatter(df_array[:,2],df_array[:,3], c=kmeans.labels_, cmap='rainbow')  \n",
    "plt.xlabel('Totoal Consumption')\n",
    "plt.ylabel('Morning Average Consumption')"
   ]
  },
  {
   "cell_type": "code",
   "execution_count": 19,
   "metadata": {},
   "outputs": [
    {
     "data": {
      "image/png": "[encoded data removed]",
      "text/plain": [
       "<Figure size 432x288 with 1 Axes>"
      ]
     },
     "metadata": {},
     "output_type": "display_data"
    }
   ],
   "source": [
    "pca = PCA(n_components=2).fit(df[featureNames])\n",
    "pca_2d = pca.transform(df[featureNames])\n",
    "for i in range(0, pca_2d.shape[0]):\n",
    "    if df.classification[i] == 0:\n",
    "        c1 = pl.scatter(pca_2d[i,0],pca_2d[i,1],c='r',marker='+')\n",
    "    elif df.classification[i] == 1:\n",
    "        c2 = pl.scatter(pca_2d[i,0],pca_2d[i,1],c='g',marker='o')\n",
    "    elif df.classification[i] == 2:\n",
    "        c3 = pl.scatter(pca_2d[i,0],pca_2d[i,1],c='b',marker='*')\n",
    "pl.legend([c1, c2, c3], ['A1', 'A2','A3'])\n",
    "pl.title('Gas consumption dataset with 3 clusters and knownoutcomes')\n",
    "pl.show()"
   ]
  }
 ],
 "metadata": {
  "kernelspec": {
   "display_name": "Python 3",
   "language": "python",
   "name": "python3"
  },
  "language_info": {
   "codemirror_mode": {
    "name": "ipython",
    "version": 3
   },
   "file_extension": ".py",
   "mimetype": "text/x-python",
   "name": "python",
   "nbconvert_exporter": "python",
   "pygments_lexer": "ipython3",
   "version": "3.6.5"
  }
 },
 "nbformat": 4,
 "nbformat_minor": 2
}
